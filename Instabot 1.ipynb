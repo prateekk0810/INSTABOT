{
 "cells": [
  {
   "cell_type": "code",
   "execution_count": 1,
   "id": "0b4177a8",
   "metadata": {},
   "outputs": [],
   "source": [
    "username='sampleusername'\n",
    "password='samplepassword'"
   ]
  },
  {
   "cell_type": "code",
   "execution_count": 2,
   "id": "67bc74e6",
   "metadata": {},
   "outputs": [],
   "source": [
    "from selenium import webdriver\n",
    "from selenium import webdriver\n",
    "from selenium.webdriver.common.by import By\n",
    "from selenium.webdriver.support.ui import WebDriverWait\n",
    "from selenium.webdriver.support import expected_conditions as EC\n",
    "import time\n",
    "from selenium.webdriver.common.keys import Keys\n",
    "from selenium.webdriver.support.ui import WebDriverWait"
   ]
  },
  {
   "cell_type": "markdown",
   "id": "6b6af3e6",
   "metadata": {},
   "source": [
    "## 1. Login to your Instagram Handle. Submit with sample username and password"
   ]
  },
  {
   "cell_type": "code",
   "execution_count": 3,
   "id": "d51066af",
   "metadata": {},
   "outputs": [],
   "source": [
    "driver=webdriver.Chrome(executable_path='/Users/DELL/Desktop/chromedriver')"
   ]
  },
  {
   "cell_type": "code",
   "execution_count": 4,
   "id": "680ad366",
   "metadata": {},
   "outputs": [],
   "source": [
    "driver.get('https://www.instagram.com/')"
   ]
  },
  {
   "cell_type": "code",
   "execution_count": 5,
   "id": "2c9dc8c6",
   "metadata": {},
   "outputs": [],
   "source": [
    "ele=driver.find_element_by_name('username')"
   ]
  },
  {
   "cell_type": "code",
   "execution_count": 6,
   "id": "3d2b71c5",
   "metadata": {},
   "outputs": [],
   "source": [
    "ele.click()"
   ]
  },
  {
   "cell_type": "code",
   "execution_count": 7,
   "id": "21e674f6",
   "metadata": {},
   "outputs": [],
   "source": [
    "ele.send_keys(username)"
   ]
  },
  {
   "cell_type": "code",
   "execution_count": 8,
   "id": "e35734db",
   "metadata": {},
   "outputs": [],
   "source": [
    "ele=driver.find_element_by_name('password')\n",
    "ele.send_keys(password)"
   ]
  },
  {
   "cell_type": "code",
   "execution_count": 9,
   "id": "7a14617f",
   "metadata": {},
   "outputs": [],
   "source": [
    "ele.submit()"
   ]
  },
  {
   "cell_type": "markdown",
   "id": "64aff11a",
   "metadata": {},
   "source": [
    "## 2. Type for “food” in search bar and print all the names of the Instagram Handles that are displayed in list after typing “food”"
   ]
  },
  {
   "cell_type": "code",
   "execution_count": 11,
   "id": "3c380af7",
   "metadata": {},
   "outputs": [],
   "source": [
    "search=driver.find_element_by_class_name('XTCLo')"
   ]
  },
  {
   "cell_type": "code",
   "execution_count": 12,
   "id": "eea2e289",
   "metadata": {},
   "outputs": [],
   "source": [
    "search.send_keys('food')"
   ]
  },
  {
   "cell_type": "code",
   "execution_count": 13,
   "id": "242a15db",
   "metadata": {},
   "outputs": [
    {
     "name": "stdout",
     "output_type": "stream",
     "text": [
      "tasty.foodrecipes\n",
      "foodie_incarnate\n",
      "yourfoodlab\n",
      "sindhi_food_community\n",
      "dilsefoodie\n",
      "food_lunatic\n",
      "food\n",
      "simzythefoodie\n",
      "zack.chug\n",
      "foodmusiclove.fml\n",
      "food.darzee\n",
      "foodbible\n",
      "foodie__nashaaa\n",
      "food\n",
      "foodbeast\n",
      "food\n",
      "foodrush.recipe\n",
      "foodporn\n",
      "foodyvid\n",
      "foodie_hangover_girl\n",
      "gurgaonfoodblog\n",
      "nepal.food\n",
      "hyderabadi_foodiee\n",
      "foodys\n",
      "foodnetwork\n",
      "thegreatindianfoodie\n",
      "foodporn\n",
      "sinful_foodie\n",
      "foodie\n",
      "delhifoodwalks\n",
      "instatroll_football\n",
      "veganbodybuildingfood\n",
      "foodtalkindia\n",
      "viral_foodie431\n",
      "foodtalesofficial\n",
      "mumbaifoodie\n",
      "surat_foodie\n",
      "the_food_kritics\n",
      "foodanalytics_\n",
      "vismaifoodies\n",
      "napolifoodporn\n",
      "foodbae.__\n",
      "foodblogger\n",
      "food_plus_fitness\n",
      "brfootball\n",
      "peddlingofficial\n",
      "wodfoodflex\n",
      "michelle_ajwani\n",
      "foodaalochak19\n",
      "pastawithnastha\n",
      "freakin_foodies\n",
      "foodzeee\n",
      "foodphotography\n",
      "turbaned_foodie\n",
      "kamlesh_modi_morbi\n",
      "food-world\n"
     ]
    }
   ],
   "source": [
    "handleList=driver.find_elements_by_class_name('-qQT3 ')\n",
    "for handle in handleList:\n",
    "    handlename=handle.get_attribute('href').split('/')[-2]\n",
    "    if '#' in handlename:\n",
    "        continue\n",
    "    print(handlename)\n",
    "    \n",
    "ele=driver.find_element_by_class_name('coreSpriteSearchClear')\n",
    "ele.click()"
   ]
  },
  {
   "cell_type": "markdown",
   "id": "56f5e7e4",
   "metadata": {},
   "source": [
    "## 3. Searching and Opening a profile using. Open profile of “So Delhi” "
   ]
  },
  {
   "cell_type": "code",
   "execution_count": 14,
   "id": "6a398dc7",
   "metadata": {},
   "outputs": [],
   "source": [
    "search=driver.find_element_by_class_name('XTCLo')\n",
    "search.send_keys('So Delhi')"
   ]
  },
  {
   "cell_type": "code",
   "execution_count": 20,
   "id": "0e7d2be3",
   "metadata": {},
   "outputs": [],
   "source": [
    "ele=driver.find_element_by_class_name('xLCgt')"
   ]
  },
  {
   "cell_type": "code",
   "execution_count": 21,
   "id": "7d4ee805",
   "metadata": {},
   "outputs": [],
   "source": [
    "ele.click()"
   ]
  },
  {
   "cell_type": "code",
   "execution_count": 22,
   "id": "65f2dc49",
   "metadata": {},
   "outputs": [],
   "source": [
    "follow_btn=driver.find_element_by_class_name('_5f5mN')"
   ]
  },
  {
   "cell_type": "markdown",
   "id": "6ded049c",
   "metadata": {},
   "source": [
    "## 4. Follow/Unfollow given handle. Open the Instagram Handle of “So Delhi”"
   ]
  },
  {
   "cell_type": "markdown",
   "id": "409e854d",
   "metadata": {},
   "source": [
    "## Start following, if already following print following."
   ]
  },
  {
   "cell_type": "code",
   "execution_count": 23,
   "id": "fc1cb8e8",
   "metadata": {},
   "outputs": [
    {
     "name": "stdout",
     "output_type": "stream",
     "text": [
      "Already following this handle\n"
     ]
    }
   ],
   "source": [
    "if follow_btn.get_attribute('innerHTML')=='Follow':\n",
    "    follow_btn.click()\n",
    "else:\n",
    "    print('Already following this handle')"
   ]
  },
  {
   "cell_type": "markdown",
   "id": "035fb225",
   "metadata": {},
   "source": [
    "## Unfollow the handle, if already unfollowed just print it."
   ]
  },
  {
   "cell_type": "code",
   "execution_count": 24,
   "id": "18182436",
   "metadata": {},
   "outputs": [],
   "source": [
    "if follow_btn.get_attribute('innerHTML')=='Follow':\n",
    "    print('Already Unfollowed')\n",
    "else:\n",
    "    follow_btn.click()\n",
    "    driver.find_element_by_class_name('aOOlW').click()\n",
    "    time.sleep(3)"
   ]
  },
  {
   "cell_type": "markdown",
   "id": "fd283b57",
   "metadata": {},
   "source": [
    "## 5. Like/Unlike posts. Liking the top 30 posts of the ‘dilsefoodie'. Print message if you have already liked it. Unliking the top 30 posts of the ‘dilsefoodie’. Print message if you have already unliked it."
   ]
  },
  {
   "cell_type": "code",
   "execution_count": 25,
   "id": "456df391",
   "metadata": {},
   "outputs": [],
   "source": [
    "ele=driver.find_element_by_class_name('s4Iyt')"
   ]
  },
  {
   "cell_type": "code",
   "execution_count": 26,
   "id": "6d6ab913",
   "metadata": {},
   "outputs": [],
   "source": [
    "ele.click()"
   ]
  },
  {
   "cell_type": "code",
   "execution_count": 27,
   "id": "f52bb554",
   "metadata": {},
   "outputs": [],
   "source": [
    "ele=driver.find_element_by_class_name('XTCLo')"
   ]
  },
  {
   "cell_type": "code",
   "execution_count": 28,
   "id": "f422a264",
   "metadata": {},
   "outputs": [],
   "source": [
    "ele.send_keys('dilsefoodie')"
   ]
  },
  {
   "cell_type": "code",
   "execution_count": 29,
   "id": "4bc5ddf6",
   "metadata": {},
   "outputs": [],
   "source": [
    "ele=driver.find_element_by_class_name('xLCgt')"
   ]
  },
  {
   "cell_type": "code",
   "execution_count": 30,
   "id": "7351fe58",
   "metadata": {},
   "outputs": [],
   "source": [
    "ele.click()"
   ]
  },
  {
   "cell_type": "code",
   "execution_count": 35,
   "id": "4b1316ec",
   "metadata": {},
   "outputs": [],
   "source": [
    "ele=driver.find_elements_by_class_name('_9AhH0')"
   ]
  },
  {
   "cell_type": "code",
   "execution_count": 36,
   "id": "631bde3e",
   "metadata": {},
   "outputs": [
    {
     "data": {
      "text/plain": [
       "30"
      ]
     },
     "execution_count": 36,
     "metadata": {},
     "output_type": "execute_result"
    }
   ],
   "source": [
    "elefinal=ele[0:30]\n",
    "len(elefinal)"
   ]
  },
  {
   "cell_type": "code",
   "execution_count": 37,
   "id": "efdaed44",
   "metadata": {},
   "outputs": [
    {
     "name": "stdout",
     "output_type": "stream",
     "text": [
      "Already Liked\n",
      "Already Liked\n",
      "Already Liked\n",
      "Already Liked\n",
      "Already Liked\n",
      "Already Liked\n",
      "Already Liked\n",
      "Already Liked\n",
      "Already Liked\n",
      "Already Liked\n",
      "Already Liked\n",
      "Already Liked\n",
      "Already Liked\n",
      "Already Liked\n",
      "Already Liked\n",
      "Already Liked\n",
      "Already Liked\n",
      "Already Liked\n",
      "Already Liked\n",
      "Already Liked\n",
      "Already Liked\n",
      "Already Liked\n",
      "Already Liked\n",
      "Already Liked\n",
      "Already Liked\n",
      "Already Liked\n",
      "Already Liked\n",
      "Already Liked\n",
      "Already Liked\n",
      "Already Liked\n"
     ]
    }
   ],
   "source": [
    "for i in range(30):\n",
    "    \n",
    "    elefinal[i].click()\n",
    "    time.sleep(3)\n",
    "    \n",
    "    ele=driver.find_element_by_class_name('QBdPU')\n",
    "    if ele.get_attribute('aria-label')=='Like':\n",
    "        ele.click()\n",
    "        print('Liked')\n",
    "    else:\n",
    "        print('Already Liked')\n",
    "        \n",
    "    driver.back()\n",
    "    time.sleep(3)\n",
    "    "
   ]
  },
  {
   "cell_type": "code",
   "execution_count": 38,
   "id": "349cab36",
   "metadata": {},
   "outputs": [],
   "source": [
    "ele=driver.find_element_by_class_name('s4Iyt')\n",
    "ele.click()"
   ]
  },
  {
   "cell_type": "code",
   "execution_count": 39,
   "id": "443ac755",
   "metadata": {},
   "outputs": [],
   "source": [
    "# FOR FOODTALKINDIA PAGE"
   ]
  },
  {
   "cell_type": "code",
   "execution_count": 40,
   "id": "2dd9f17e",
   "metadata": {},
   "outputs": [],
   "source": [
    "search=driver.find_element_by_class_name('XTCLo')\n",
    "search.send_keys('foodtalkindia')"
   ]
  },
  {
   "cell_type": "code",
   "execution_count": 41,
   "id": "158cf214",
   "metadata": {},
   "outputs": [],
   "source": [
    "time.sleep(3)\n",
    "search.send_keys(Keys.ENTER)\n",
    "search.send_keys(Keys.ENTER)"
   ]
  },
  {
   "cell_type": "code",
   "execution_count": 42,
   "id": "0d105c9a",
   "metadata": {},
   "outputs": [],
   "source": [
    "time.sleep(4)"
   ]
  },
  {
   "cell_type": "code",
   "execution_count": 43,
   "id": "e6685e75",
   "metadata": {},
   "outputs": [],
   "source": [
    "followers_btn=driver.find_elements_by_tag_name('li')[1]"
   ]
  },
  {
   "cell_type": "code",
   "execution_count": 44,
   "id": "493d4206",
   "metadata": {},
   "outputs": [],
   "source": [
    "followers_btn.click()"
   ]
  },
  {
   "cell_type": "code",
   "execution_count": 45,
   "id": "c866fa2f",
   "metadata": {},
   "outputs": [],
   "source": [
    "while len(driver.find_elements_by_xpath('//li[@class=\"wo9IH\"]'))<500:\n",
    "    element=driver.find_elements_by_tag_name('li')[-1]\n",
    "    driver.execute_script(\"arguments[0].scrollIntoView();\", element);\n",
    "    #print(len(driver.find_elements_by_xpath('//li[@class=\"wo9IH\"]')))\n",
    "    time.sleep(3)"
   ]
  },
  {
   "cell_type": "code",
   "execution_count": 46,
   "id": "7b515f28",
   "metadata": {},
   "outputs": [],
   "source": [
    "user_list=driver.find_elements_by_xpath('//li/div/div/div/div/span/a')"
   ]
  },
  {
   "cell_type": "code",
   "execution_count": 47,
   "id": "da582979",
   "metadata": {},
   "outputs": [
    {
     "name": "stdout",
     "output_type": "stream",
     "text": [
      "ishita_88889\n",
      "fitluv_gaurav\n",
      "food_picked\n",
      "khushijhawarr\n",
      "the_eight.one\n",
      "ministryoftaste\n",
      "akash.goyall\n",
      "arpit9045sagar\n",
      "adaakhan.khan.9862\n",
      "_ankitagupta_\n",
      "__rheats\n",
      "vanasutram\n",
      "babumali001\n",
      "anshul.at\n",
      "venu_87\n",
      "inder_jeet142\n",
      "rohitreddy.samala\n",
      "inayat_shah_73932\n",
      "shubham.ydav\n",
      "manishsavoji\n",
      "ohhsantiago_2020\n",
      "mansii______12\n",
      "bad_x_manav\n",
      "vishalsinh.077\n",
      "sidvvg\n",
      "radhika_murarka\n",
      "harsh_vardhan4484\n",
      "nimitk\n",
      "myhomecookings\n",
      "neha_talwar022\n",
      "rakshasolanki123\n",
      "mdlbrothers_\n",
      "vwagh9524\n",
      "hostingideas\n",
      "mohdnafees1006\n",
      "vikasyadav6638\n",
      "shahwez967\n",
      "mehar.k13\n",
      "henna_by_aartisoni\n",
      "umeshyadav9930\n",
      "ajit.jejurkar\n",
      "__.joyceee29.__\n",
      "i_vishal1313\n",
      "eathealthyfiber\n",
      "kitchen.rings\n",
      "oramoney1\n",
      "dewdrophotels\n",
      "jaipurian_rajat\n",
      "nottransferable\n",
      "dhammaaaucharmal\n",
      "cakesbykhushbu\n",
      "kashifking888\n",
      "mallu_swag\n",
      "arvaj_khan_0040\n",
      "cuisinezillaa\n",
      "foodoo_magicc\n",
      "rose_cookieland\n",
      "ranber901\n",
      "eshan149\n",
      "binson_chef\n",
      "i_amofficial0786\n",
      "pradeep.x.pandey\n",
      "karanjangir20\n",
      "mukeshpurim1\n",
      "theunclichedblog\n",
      "rolll_no_245\n",
      "saudasadaf\n",
      "phoenix_on_the_roll\n",
      "sjbvk1234\n",
      "jeetthakur399\n",
      "hetv_i9968\n",
      "kana.lover111\n",
      "shantanu_kamboj\n",
      "qayoom5301\n",
      "iamhasanalquama\n",
      "gowariqa\n",
      "anant189\n",
      "ady_234g\n",
      "aurum_pooja\n",
      "karthikeyan04\n",
      "lumos_glorious\n",
      "viral_world_vide0s\n",
      "lamaansahib\n",
      "ishaankalra\n",
      "feastwithsafiya\n",
      "monamadethis\n",
      "shalini_raghuvanshi_0007\n",
      "shalika_08\n",
      "nidhigokral\n",
      "_little_danish__baba___\n",
      "parmarnimesh560\n",
      "poulomideb\n",
      "babies.needs110\n",
      "rohitsharma9179\n",
      "narendrasingh.chauhan.771282\n",
      "ravi_venktaesh_official_peg\n",
      "girls.life.pink\n",
      "humeraadlakhiya\n",
      "namrata_sarvaiya_07\n",
      "arunvenugopalm\n",
      "fahadalhinai77\n",
      "miracle618779\n",
      "guddo.ali\n",
      "norigamiindia\n",
      "gaurav_s_kataria\n",
      "_king_of_the_joker_\n",
      "s.w.a.t.i_choudhary\n",
      "__thefoodicon__\n",
      "0ffical_s.p_9968\n",
      "tan87143\n",
      "nirvi.shah\n",
      "venus.2512_\n",
      "sandhyakotlia\n",
      "__andy.18_\n",
      "jef_co\n",
      "mr_ravi_1143\n",
      "foodie_kulsum\n",
      "sangeetha_anandhan\n",
      "the_innovative_catchers\n",
      "rohanaik\n",
      "gufran_athar\n",
      "shayam.kackar__\n",
      "official_shekhawat_68374\n",
      "janhvi_91\n",
      "shivi_0303\n",
      "raw_grammer\n",
      "jia.dodiya\n",
      "darylsa_9763\n",
      "vinz3004\n",
      "vishalthaokr\n",
      "shrutitiss\n",
      "oye_badmash\n",
      "tryingtocrosstheglobe\n",
      "quixotic_97\n",
      "vaaniikatyal\n",
      "___foodistan_\n",
      "monicasalwaan\n",
      "riyovenkat\n",
      "kanikajain_\n",
      "soepicure\n",
      "hyderabad.food.safari\n",
      "dhannu_143_\n",
      "purrearl\n",
      "kumkumar2451\n",
      "slowkhya\n",
      "chukdespices\n",
      "raunakjain78\n",
      "_lipika_11\n",
      "miss_dasgupta\n",
      "universal_nature_world\n",
      "21stcenturybobbysoxer\n",
      "gaurav_0369\n",
      "p.a.l.a.k.gupta\n",
      "shindeharshjeet\n",
      "themailap\n",
      "jyoti_gupta46\n",
      "sonal_randive_2024\n",
      "rubeg___\n",
      "harsh.gupta54\n",
      "rajeevgupta63412\n",
      "pankajk27_\n",
      "pihu_.gupta\n",
      "hyattregencylko\n",
      "opentap_freshbeercafe\n",
      "23_prathmesh\n",
      "foodie.sudha\n",
      "shopping_greek\n",
      "iqraali5344\n",
      "kakarott_luffy\n",
      "natu_ferns\n",
      "wrarphairc\n",
      "santperiwal\n",
      "sufi_28\n",
      "dhritiimall\n",
      "tanvi.tapadia\n",
      "shristi_mandal\n",
      "mohnahanda\n",
      "curiouscaseofme\n",
      "productgraphybyvipin\n",
      "radhika96goyal\n",
      "argokhale\n",
      "v.i.n.e.a.t\n",
      "mansooriazeem372021\n",
      "sarthaksuri96\n",
      "yet.to.be.discovered\n",
      "tanmay2032\n",
      "bakshi_karan18\n",
      "ashi_choc\n",
      "radhikabgoel\n",
      "amirkhan_kamirk\n",
      "jatinbasandrai\n",
      "theanandsumanth\n",
      "sneha.angelagomes\n",
      "mkhanna__\n",
      "chef_vishnu_teja\n",
      "kanyalbaker\n",
      "samie_990\n",
      "mousumisaha760\n",
      "hymabalaji\n",
      "shivangi12_11\n",
      "jehanniko_\n",
      "savithankiran\n",
      "swati_maheshwari5\n",
      "bradharvey17\n",
      "manish.punjabi\n",
      "poonam888\n",
      "wattts.up_\n",
      "iamvanshgupta1\n",
      "tandoori_zzaika_official\n",
      "contreauversial\n",
      "muskan.dharmani\n",
      "meeralobo\n",
      "ghungru_\n",
      "sapnachhatwani6\n",
      "nilam_ghodke\n",
      "mohakdubey\n",
      "talibnoire\n",
      "itssakshishrivastav\n",
      "snehalkaila\n",
      "pushpjh\n",
      "alltimebakes\n",
      "naaikaameye\n",
      "theankitkhurana\n",
      "himanshi988669\n",
      "photocorrect\n",
      "sumitasrkr\n",
      "joestanleyy\n",
      "only.followingverified\n",
      "dinas_delights2\n",
      "anusrikumar\n",
      "rejetijyothi\n",
      "chiefspicegirl\n",
      "aasiyasifadlakhiya\n",
      "sankar.choudhry.988\n",
      "_saheb__\n",
      "charlottylil\n",
      "manishpopat99\n",
      "mituu20\n",
      "ananyaroyy\n",
      "manisha_moorjani\n",
      "shivanu\n",
      "storiesbyaj\n",
      "payal280\n",
      "maverrik\n",
      "tanmay.mittall\n",
      "nitikamalhotra9\n",
      "gagan_khangura85\n",
      "aditya_dhupar\n",
      "risara_1507\n",
      "megha.d\n",
      "anirban02\n",
      "spandan.patnaik\n",
      "stylecoquettes\n",
      "daniela.b9\n",
      "mazsyed96\n",
      "kennyarjun\n",
      "ashutoshsamal\n",
      "kiranjage\n",
      "24framz\n",
      "ivy0vine\n",
      "goutham.27\n",
      "s_e_e_maa\n",
      "queens_treat01\n",
      "ankitsinghlko142020\n",
      "cook_with_mehjabin\n",
      "_bunch_of_roses__\n",
      "_muskan.mishra\n",
      "gift_product_123\n",
      "__.nikhil_____108\n",
      "lolwah_real_estate\n",
      "ankita_aru\n",
      "trustmeiam_987\n",
      "trinklet__\n",
      "allbasmati\n",
      "tuby12\n",
      "geeta_19\n",
      "kiransharma3017\n",
      "avyaktamore\n",
      "skhornm\n",
      "bohraitems786\n",
      "mubarakan_mubarakan\n",
      "tassusonij\n",
      "gsu6971\n",
      "fragrance_lover_02\n",
      "zainy_miz_\n",
      "zainab_mohammad_kudrati\n",
      "tee_vee__465\n",
      "lapinozkalkaji\n",
      "divya_laksh_\n",
      "kunwarkansal\n",
      "mohdzaman__\n",
      "madan_singh_mehrasar\n",
      "mr__hunter__ji\n",
      "simrankaurdharna\n",
      "fndindia\n",
      "sakshisingh_ace\n",
      "soni_sunju\n",
      "riyaharia\n",
      "nitin.mee\n",
      "ajaykushwaha1507\n",
      "planetsagar\n",
      "itsme_nidhi_\n",
      "love_of_food07\n",
      "neelu_matiya\n",
      "pizzandabs\n",
      "srishti_vij\n",
      "mirzasanaa\n",
      "cafethecorner\n",
      "godgiftss\n",
      "ramirabatra\n",
      "s_k_singh_patel\n",
      "aggarwalpurva\n",
      "mani_c1809\n",
      "the_foodiebrat\n",
      "aishwarrya.nair\n",
      "thepinkribbon09\n",
      "pehnawaabyradhikaa\n",
      "siyaasahni\n",
      "bharat2502\n",
      "speakburgers\n",
      "mehakkapur02\n",
      "swadesh_milk_products\n",
      "kritika_04444\n",
      "sana_666_\n",
      "aashimchandok\n",
      "sunita_khanduri09\n",
      "mohamad334444444443\n",
      "chef.majoy\n",
      "foodbenz\n",
      "gariiimaaaa\n",
      "chefasif_official\n",
      "anisha_sinha06\n",
      "sunil_009_oficel\n",
      "uranux_21\n",
      "fatema_juzar_1302\n",
      "13_himanshi\n",
      "thejade25\n",
      "pinkipandey41\n",
      "travel_food_love9\n",
      "cookingwithishrat86\n",
      "smbayajid\n",
      "rabi_n89\n",
      "vishalchouhan33\n",
      "surabhi_chavan\n",
      "shinendivine\n",
      "sunitarainait\n",
      "vivek_thakar02\n",
      "anoushkaabhat\n",
      "priiankaaa\n",
      "ajain1419\n",
      "_shreyyyaaaaaaaa_\n",
      "ishakapoor_12383\n",
      "teriferno\n",
      "shiv_doesitbetter\n",
      "shynakumar07\n",
      "mohdmusavir52\n",
      "samii_sonalii\n",
      "the_saranna\n",
      "rishita2107\n",
      "saida198411\n",
      "visit_ajmer\n",
      "vineet_sogani\n",
      "altafshaikh2907\n",
      "zainul3873\n",
      "deepalibakshi_\n",
      "missprakash08\n",
      "verma.vishal261\n",
      "harpreet__07\n",
      "n_a_n_a_h7890\n",
      "shrutipathak25\n",
      "israt_minha\n",
      "kingseatery\n",
      "janak_nakum\n",
      "karansoni1\n",
      "ambuj200\n",
      "thefoodiesista\n",
      "pablosbunnychowuae\n",
      "oyedekhmota\n",
      "sonia_baby22.1\n",
      "shamikaartist\n",
      "poojas_cake_studio\n",
      "joelgabaa\n",
      "daddy_ke_masale\n",
      "mrarjunvaishnav03\n",
      "jangraneeru\n",
      "catering_sugarkitchen85\n",
      "juicy_kup\n",
      "saju_bdr\n",
      "meharsinghdang\n",
      "dal_donuts_doodles\n",
      "ni.kunj362\n",
      "tanishaaa0290\n",
      "waheguruhing\n",
      "ayeshaubaidislam\n",
      "dushyant1337\n",
      "poojapushpenderrana\n",
      "_khushinegi_\n",
      "catriona_mc_donnell\n",
      "rakhejakanika\n",
      "theroomatfannys\n",
      "mandibycookingexperts\n",
      "the_voguishcouture\n",
      "nagvanshi719\n",
      "lufunostuckshop\n",
      "soh_bakes\n",
      "batraaakriti\n",
      "happypandasnackhub\n",
      "tanay6881\n",
      "adityayadav564\n",
      "the_delhi_kudi\n",
      "jupiterswamp\n",
      "jainam9336\n",
      "preet_53\n",
      "sakae5846ra\n",
      "tejavyshnaviannu1008\n",
      "gol_u015\n",
      "mumsconfections\n",
      "dhanajit.roy.357\n",
      "snehalata.prusty.98\n",
      "ranapalit\n",
      "gaurangprajapati_official\n",
      "arshita_sehgal\n",
      "jayant_2805\n",
      "varsha.sahu.56232938\n",
      "soilundernails\n",
      "foodex92\n",
      "cravingsyt\n",
      "ashwini.6247\n",
      "sonu_kumar_yadav_official_2007\n",
      "theaboveaveragefemale\n",
      "kfcsirsa\n",
      "unique_natural_saffron__jk\n",
      "foods.odisha\n",
      "antony.hubert.5\n",
      "ishu_ace\n",
      "boosterjuicestreetsville\n",
      "luvatfirstbitee\n",
      "lies.human\n",
      "theomshinde19\n",
      "mr_jitendra10\n",
      "sivagurug2032emil\n",
      "ak198421\n",
      "kan_bhandari\n",
      "manishdahiya217\n",
      "aarha_amor\n",
      "foodfrommedan\n",
      "nrohit1\n",
      "lrkby8447\n",
      "somya_dxt\n",
      "anushreegandhi\n",
      "shaifarmaniyar\n",
      "prinshu_0802\n",
      "nbajaj123\n",
      "heyitsmansh\n",
      "thefusionfeast\n",
      "foodationbykanika\n",
      "nilmodi_1978\n",
      "hanvoh\n",
      "houseofcreamy21\n",
      "pk8983250\n",
      "_sunistha_\n",
      "eeshatirodkar\n",
      "so_delhi_foodwalks\n",
      "nehaasingh_22\n",
      "nihonresuto\n",
      "naina_antony\n",
      "_divya_reddie\n",
      "sabinasikka\n",
      "raj_deepak.singh\n",
      "eknoor__sawhney\n",
      "piasolanki2020\n",
      "contact.verma\n",
      "unapologetic_aquarian\n",
      "aloadofme\n",
      "paras.mad\n",
      "surbhiagg07\n",
      "kongposhharisa\n",
      "minz_1296\n",
      "riddhi.agrawal.1234\n",
      "brave_girl7664\n",
      "_i_sudip\n",
      "_.misterio._a\n",
      "thats.zo.you\n",
      "shipra_ki_rasoiii\n",
      "aanyawigg\n",
      "tanishka0108\n",
      "fawltyaccount\n",
      "v.party_sarah\n",
      "the_food_kaleidoscope\n",
      "raj.sethy1431819\n",
      "mgg_updates\n",
      "saurabhshah4u\n",
      "simrantomarr\n",
      "narayansmile\n",
      "payal2828\n",
      "cafebistropune\n",
      "anjali.ramesh84\n",
      "pavya.v\n",
      "brownyumm_brownies\n",
      "harshit_mach5\n"
     ]
    }
   ],
   "source": [
    "for i in range(500):\n",
    "    print(user_list[i].get_attribute('title'))"
   ]
  },
  {
   "cell_type": "code",
   "execution_count": 48,
   "id": "ae609ce8",
   "metadata": {},
   "outputs": [],
   "source": [
    "driver.refresh()"
   ]
  },
  {
   "cell_type": "code",
   "execution_count": 49,
   "id": "df76c396",
   "metadata": {},
   "outputs": [],
   "source": [
    "# FOR SO DELHI PAGE"
   ]
  },
  {
   "cell_type": "code",
   "execution_count": 50,
   "id": "84ac0909",
   "metadata": {},
   "outputs": [],
   "source": [
    "search=driver.find_element_by_class_name('XTCLo')"
   ]
  },
  {
   "cell_type": "code",
   "execution_count": 51,
   "id": "b41b2f64",
   "metadata": {},
   "outputs": [],
   "source": [
    "search.send_keys('So Delhi')"
   ]
  },
  {
   "cell_type": "code",
   "execution_count": 52,
   "id": "045edde8",
   "metadata": {},
   "outputs": [],
   "source": [
    "time.sleep(3)\n",
    "search.send_keys(Keys.ENTER)\n",
    "search.send_keys(Keys.ENTER)"
   ]
  },
  {
   "cell_type": "code",
   "execution_count": 53,
   "id": "b4c9e28b",
   "metadata": {},
   "outputs": [],
   "source": [
    "time.sleep(4)"
   ]
  },
  {
   "cell_type": "code",
   "execution_count": 58,
   "id": "df91f8bc",
   "metadata": {},
   "outputs": [],
   "source": [
    "followers_btn=driver.find_elements_by_tag_name('li')[1]"
   ]
  },
  {
   "cell_type": "code",
   "execution_count": 59,
   "id": "d1641e5a",
   "metadata": {},
   "outputs": [],
   "source": [
    "followers_btn.click()"
   ]
  },
  {
   "cell_type": "code",
   "execution_count": 60,
   "id": "0c9d5288",
   "metadata": {},
   "outputs": [],
   "source": [
    "while len(driver.find_elements_by_xpath('//li[@class=\"wo9IH\"]'))<500:\n",
    "    element=driver.find_elements_by_tag_name('li')[-1]\n",
    "    driver.execute_script(\"arguments[0].scrollIntoView();\", element);\n",
    "    #print(len(driver.find_elements_by_xpath('//li[@class=\"wo9IH\"]')))\n",
    "    time.sleep(3)"
   ]
  },
  {
   "cell_type": "code",
   "execution_count": 61,
   "id": "a3af5825",
   "metadata": {},
   "outputs": [],
   "source": [
    "user_list=driver.find_elements_by_xpath('//li/div/div/div/div/span/a')"
   ]
  },
  {
   "cell_type": "code",
   "execution_count": 62,
   "id": "4559ccb3",
   "metadata": {},
   "outputs": [
    {
     "name": "stdout",
     "output_type": "stream",
     "text": [
      "vandanaa_0606\n",
      "soulfulvoice._\n",
      "da_lying_llama\n",
      "bhagyashree_09\n",
      "garima.k11\n",
      "the_last_knight06\n",
      "kbajaj01\n",
      "lovishawrites\n",
      "dcba6142\n",
      "pickup_flavours\n",
      "paridhi.s_\n",
      "_7_continents_1_life\n",
      "surya_kapoor7\n",
      "thinkanshuman\n",
      "kanikaa_joshi\n",
      "_unnati_singhal_\n",
      "parbin__\n",
      "pooja.263\n",
      "dinner_in_the_starlight\n",
      "im_just_kidding_0\n",
      "rushnblushbyaayushi\n",
      "mustakem.mustakem.3551\n",
      "jaspriya_khanna\n",
      "nivs48\n",
      "fresh_cookbyneelanjana\n",
      "daleenasingh.official\n",
      "drpals\n",
      "wonderingmyself\n",
      "juhina.khatun.319\n",
      "princekashyap1987\n",
      "its_the_silencer\n",
      "ru_dra0786\n",
      "pikturenama\n",
      "pallavirawat00141\n",
      "mahi.baisa.online\n",
      "abdula.ansari.92317121\n",
      "shubham.ydav\n",
      "spidybansal\n",
      "pablorf360x4\n",
      "prashant.gupta_\n",
      "agraw_alkaran89\n",
      "__avantiikkaaa\n",
      "vohra__sanjhal\n",
      "jivlamba99\n",
      "risabh_432\n",
      "sarkar.piklu\n",
      "mim___shp__\n",
      "imsmhere\n",
      "guneet.singh96\n",
      "preyarnsisaikia\n",
      "yogeshtokass\n",
      "suhaniarora_05\n",
      "dinky_chhatlani\n",
      "delhiian\n",
      "besandipsingh\n",
      "reshmataneja9\n",
      "bapu_dry_fruits\n",
      "purvimalhotra_4\n",
      "canad.adreamer\n",
      "pri.yeahh.__\n",
      "komil.sehgal\n",
      "babbar.jeweller\n",
      "sahilvig.gif\n",
      "soyeahdarsini\n",
      "gavitsrd99\n",
      "raman_arora26\n",
      "divyajain_15\n",
      "ek_mulakaat_ho\n",
      "jashchhabria\n",
      "vrittimalik_\n",
      "nikunjkhator\n",
      "_5ushant\n",
      "r.i.y.a_b.o.s.e\n",
      "shadows_and_sighs\n",
      "tarungulati__\n",
      "gauravgupta8564\n",
      "adventuresbynicky\n",
      "idivyanshsharma\n",
      "harshchauhan234\n",
      "prettymuchmellow\n",
      "abhishek3096\n",
      "ashi._.goel\n",
      "99.78290209\n",
      "demythifydelhi\n",
      "mohdnafees1006\n",
      "dwnhhsyn\n",
      "aditya_jha_236\n",
      "darth_zodiac\n",
      "ishita_88889\n",
      "fantastic_bharat\n",
      "mehar.k13\n",
      "v.lakshmisriram\n",
      "zeph.yy\n",
      "random_pretentious_username\n",
      "hotie__boi\n",
      "nav_sheen\n",
      "mayank.1439\n",
      "adisharma.12\n",
      "johndejohn96\n",
      "1distantlova\n",
      "riya_bhardwaj0093\n",
      "kritiwattal\n",
      "roopambehl\n",
      "chhabra.anurag\n",
      "bhavya80504\n",
      "5735.stkabirdin2020\n",
      "shailendradeshmukh24\n",
      "avreen_kaur20\n",
      "surbhi.rai3\n",
      "being_unbreakable1999\n",
      "b.d.s.m_delhi_\n",
      "pooja.malhotra.sharma\n",
      "nilayaspa\n",
      "vimudha_2108\n",
      "thekraftytales\n",
      "mayarakhan922\n",
      "nikurajput_123\n",
      "paid_girl.neha.khan\n",
      "batravipul\n",
      "bloom_blossom15\n",
      "riyayaya_1\n",
      "simpy_yadav_27\n",
      "sam.mhmmm\n",
      "phoenix_vilo\n",
      "goel_vidushi\n",
      "inaffairwithlens\n",
      "poo_jajais\n",
      "6257.naresh\n",
      "khoofiyaisthenewcool\n",
      "sejwal._\n",
      "_jeetchauhan\n",
      "luv.narang16\n",
      "ashima.sethi.92\n",
      "saketgarg.22\n",
      "itsmylife.suji\n",
      "_garvitag_\n",
      "mr_hitzzz_20\n",
      "upsi_gajendra_chahar\n",
      "you_know_yuki\n",
      "stay_noted\n",
      "official_yadav._nee2\n",
      "arsha_anil_16\n",
      "deekshaneeraj\n",
      "16.493824\n",
      "mr_ravi_1143\n",
      "lostboyjourney__75\n",
      "matta.bhavika\n",
      "lizakhan3210\n",
      "foodieerohan\n",
      "fiz1747\n",
      "sehrawat_saurabh_\n",
      "_adultgram_1.0\n",
      "crazymess.xo\n",
      "reyan_012\n",
      "vasundhra___\n",
      "rahulbhauborkarrv_96k\n",
      "mr_zala_saheb\n",
      "kavita_runthala_artis\n",
      "tyaginyasa\n",
      "lensingmanually\n",
      "akaurb62\n",
      "dorrance_faridabad\n",
      "aman7059yadav\n",
      "aayushx.18\n",
      "_._maharshi_._\n",
      "51nupur\n",
      "ajayyy_11\n",
      "niharikasaluja\n",
      "dcloset_04\n",
      "the.monday.collective\n",
      "naseebbapji\n",
      "bhalusbite\n",
      "wander__traveler\n",
      "deepti.mishr._\n",
      "guditwoshoes\n",
      "_thesinskaari\n",
      "ruchikaa_07\n",
      "bhunesh1132\n",
      "whoo_mahiii\n",
      "thekashifsyd\n",
      "rishikagupta__\n",
      "_furniturewaale_\n",
      "ms.skystea\n",
      "johnathanblack111\n",
      "tobaktoor\n",
      "ankit47\n",
      "positive_vibes_2601\n",
      "simran.deep__\n",
      "begettersofficial\n",
      "somya0144\n",
      "00literateboi00\n",
      "_psycho__biker___\n",
      "the_kk_yaduvanshi\n",
      "eshaa_tandon\n",
      "keshavtokas\n",
      "chaotic_stone\n",
      "sakht._launda\n",
      "chandni_rajpoddar\n",
      "baburao9331\n",
      "delhi.lifestyle\n",
      "itshbonline\n",
      "ankitrathi95\n",
      "vermanaveen__\n",
      "di.ad.em\n",
      "shruti_sutty94\n",
      "mandapaka911\n",
      "whiskeywithacyanide\n",
      "ihsaan1999\n",
      "logpixel\n",
      "iamlatadubey\n",
      "ashika_2119\n",
      "agarwalsaanvi\n",
      "esha.agrawal\n",
      "home_services_delhi\n",
      "manikaparwani\n",
      "aman_immortal29\n",
      "eddy_muk\n",
      "sanchitdua._\n",
      "kaurjashan_\n",
      "satyam_7662\n",
      "shifa.z.hussein\n",
      "zaydenafterhours\n",
      "junjengla\n",
      "kudrat_in\n",
      "probashandco\n",
      "sumitchopra01\n",
      "its_jaspreettttt\n",
      "maanya_saini\n",
      "iammohit_3011\n",
      "watashi_wa_konoha_desu\n",
      "dokind1230\n",
      "khau_truck\n",
      "spice_toast111\n",
      "nishasachdeva_3012\n",
      "shonali_sharma\n",
      "nishant_singh_maanu\n",
      "rajatlamaa\n",
      "nicheeeeee___\n",
      "praddy21\n",
      "vanshika.ydv\n",
      "mall.aayush\n",
      "shaziasheikh5\n",
      "thefarhn3\n",
      "vipin.kuntal.5074\n",
      "deepakpanwarmali\n",
      "raviprajapti108\n",
      "iaishwaryanair\n",
      "_sheena.bhatia_\n",
      "nikhil_kr12\n",
      "official_aditya_singh_panwar20\n",
      "preetqaur20\n",
      "pranshumishra25\n",
      "_nausheen_09\n",
      "utsavmahendra1\n",
      "sociallylost\n",
      "surajk5951\n",
      "punitjain8826247801\n",
      "karthipulsar72\n",
      "debakanya_22\n",
      "yadav.reena.733\n",
      "lazercrazer\n",
      "meenakshi_063\n",
      "mukeshgautam15\n",
      "p_r_e_e_t_i_ii\n",
      "harshita____08\n",
      "__neha_kundaliya_\n",
      "nitin_mishra7\n",
      "foodiesdelhite\n",
      "that_leoqueen1\n",
      "vinay.r.jain\n",
      "piyush.patel19\n",
      "bharatkaranwal\n",
      "ra.mbabu1062\n",
      "shippu45\n",
      "shakky_.8181\n",
      "mbk_artisery\n",
      "1qqra\n",
      "foodercity\n",
      "saood_pathan\n",
      "ruchisharma1402\n",
      "shemanti.ghosh\n",
      "hiri952\n",
      "ashianaagarwal_\n",
      "kurakkuheddo\n",
      "subhana_samad\n",
      "sandhya_maharana5_\n",
      "dhruvishah95\n",
      "thakur_sachin_82\n",
      "bkhaneja\n",
      "themayankverma_\n",
      "justclicked_2021\n",
      "akashkamal_29\n",
      "foodiliciousoul\n",
      "anoopshukla447\n",
      "knu2378\n",
      "_high.me___\n",
      "sonali201\n",
      "sumitjain19\n",
      "pradeeppundeer97\n",
      "delhisandylitehot\n",
      "yeoja_0205\n",
      "samk.ism\n",
      "poorvanagar90\n",
      "foodie_kulsum\n",
      "thelazystarr\n",
      "akirajulia44\n",
      "_ishmitadhall\n",
      "_rashichoudhary\n",
      "kantabhonsle21\n",
      "lov_niveriya\n",
      "naheem.khan__\n",
      "pratyanchaagupta\n",
      "happythelebra\n",
      "bhawna_0229\n",
      "shreyamalhotra01\n",
      "moradinasab_aman\n",
      "charu_gupta23\n",
      "iam_sagittarius_girl\n",
      "girly_explorer\n",
      "krish_enigma\n",
      "sugandhapal\n",
      "isameermalik\n",
      "jimmi_r_g\n",
      "rushmeet_kaur\n",
      "sonia.12.12\n",
      "vishal_g27\n",
      "soniya_rahim\n",
      "afreen.farooque\n",
      "iamkareena.__\n",
      "rashmisharma679\n",
      "anupsha84\n",
      "renusingh4214\n",
      "jabbo_9\n",
      "buddha_peacegiver_\n",
      "mobassharz\n",
      "be_like_tarun\n",
      "afoodtrip\n",
      "offical_abhishek_valmik\n",
      "instaforsrishti\n",
      "imakkug\n",
      "real_amanarora\n",
      "praveenbansal01\n",
      "7m.ayan7k\n",
      "sophia.hira\n",
      "bobin_kuriakose\n",
      "explorewithdrish\n",
      "payal_arora_flowers\n",
      "akshayajain__\n",
      "id_vinayakm\n",
      "foodies_gram0011\n",
      "062c_\n",
      "heloo_betche\n",
      "iamaribanaeem\n",
      "sarnaharpal\n",
      "niharikajain.22\n",
      "jyotimishra426\n",
      "mohdmusavir52\n",
      "md.zaiid\n",
      "drunk_dobby\n",
      "riteishfit\n",
      "abida_shahid_12\n",
      "somansh17\n",
      "amit_aryan\n",
      "jatinwadhwa08\n",
      "allgoodnames._.rgone\n",
      "bhumika._.india\n",
      "__sumitpvt\n",
      "seemachauhan_26\n",
      "bloggerr20\n",
      "kunjbhagat\n",
      "_what.s.does_\n",
      "am_ritu_\n",
      "digitalsandesh_\n",
      "avi_khansli\n",
      "_devil_singh\n",
      "sabiya.mohsin\n",
      "smridhiiseth\n",
      "ridhimaa._.d\n",
      "kittyg4ng_444\n",
      "piyush_bhardwaj_404\n",
      "amanmahajan0077\n",
      "chauhanharsh04\n",
      "kingggg__3604\n",
      "shrutimaheshwari3\n",
      "manubishnoi90\n",
      "labradorable_champ\n",
      "365fitfoodfun\n",
      "paridhiv._\n",
      "jigyasadudwani11\n",
      "vikas.batra.505\n",
      "ig.kartikk\n",
      "vinay.rathi\n",
      "mytravelstories2127\n",
      "suneeta.yadav.58323431\n",
      "wandergal.in\n",
      "opentap_freshbeercafe\n",
      "pvt.4yush\n",
      "puneetbhatia13\n",
      "navyugtyagi_\n",
      "_anchal0511\n",
      "ig_prince_official\n",
      "reiyaoberoi\n",
      "nazish2abid\n",
      "_abhaymohan_\n",
      "browniefudgelover\n",
      "sanidhyajoshi08\n",
      "sarcastic_since1993\n",
      "riyaa_kocharrr\n",
      "ambikachoudharyy\n",
      "miss_tshering\n",
      "sheekhaagrawal\n",
      "alllhonahinathanalll\n",
      "payaljayin\n",
      "shivangimgupta\n",
      "_itz_chenn_\n",
      "darshana_asopa\n",
      "chandrika_joshi_123\n",
      "mamtashawani01\n",
      "kashlykaur\n",
      "akhuzkxx_10745\n",
      "baked_by_kruthibipin\n",
      "sijo_k_\n",
      "talwar_garima\n",
      "idiveshagarwal\n",
      "afra__0014\n",
      "prithvipillai\n",
      "joggy_64\n",
      "overcomingunknowns\n",
      "suman.mulodia.45\n",
      "_srishti_tandon_\n",
      "puchidesu24\n",
      "mahakaaal_____\n",
      "mallikatripathii\n",
      "ch_nichhhs\n",
      "tutejafoodblogger_\n",
      "rishabhthakurrr\n",
      "bajajjyoti08\n",
      "archit_jain29\n",
      "i_am_aasthathapa\n",
      "ma_nsimalik\n",
      "adv.sanjanac08\n",
      "komal.sharma27\n",
      "shahinakhter63\n",
      "smakshii\n",
      "tanya.malhotra.121\n",
      "losttracklately\n",
      "nandineejoshi\n",
      "saheba841\n",
      "shrikant__001\n",
      "the_mobile_photography9\n",
      "sadda.nakli.account\n",
      "i__s__h__a__n__t__\n",
      "dhritinavroopphutela4\n",
      "_.kiranv._\n",
      "_kunaaal22\n",
      "chauhan17_14\n",
      "awararajput1008\n",
      "the_swagworld\n",
      "jatin_akheria\n",
      "mr_azhar_ansari_1110\n",
      "gupta_mehal\n",
      "sahilgoyal__17\n",
      "hmyd13628\n",
      "aaayatsh\n",
      "eliene.santanamacedo\n",
      "romitkohli\n",
      "part_of_sun\n",
      "letsexploredigitallytogether\n",
      "bhavikaaaaa\n",
      "ditee.03\n",
      "rajatbhallaofficial\n",
      "akay_4008\n",
      "sumeetkmittal\n",
      "smurfs4u\n",
      "prashantgarg85\n",
      "yogesh._.kukreja\n",
      "bishalplywood\n",
      "sagar_chawla98\n",
      "junekeri.homes\n",
      "epicureanladyy\n",
      "divyat_\n",
      "_ballu_0625\n",
      "kratikabhatnagar\n",
      "drallighieri\n",
      "manyaaa__kaur\n",
      "verni_kohli\n",
      "dj982511\n",
      "wedding_soulmate_fusion\n",
      "aasim_saifi\n",
      "abhinav.arora301\n",
      "srishtibhandari99\n",
      "bhukkadversion2.o\n",
      "makerspeliculas\n",
      "norwaykar\n",
      "rahaf.alshraah.1997\n",
      "__malyajain__\n",
      "anu.rawat.31149359\n",
      "i_am_stubborn_kb\n",
      "_jam_011\n",
      "bvmbi_riskey\n"
     ]
    }
   ],
   "source": [
    "for i in range(500):\n",
    "    print(user_list[i].get_attribute('title'))"
   ]
  },
  {
   "cell_type": "code",
   "execution_count": 63,
   "id": "7e4d09ec",
   "metadata": {},
   "outputs": [],
   "source": [
    "driver.refresh()"
   ]
  },
  {
   "cell_type": "markdown",
   "id": "72962165",
   "metadata": {},
   "source": [
    "# Now print all the followers of “foodtalkindia” that you are following but those who don’t follow you"
   ]
  },
  {
   "cell_type": "markdown",
   "id": "dacdb891",
   "metadata": {},
   "source": [
    "# Getting own followers and following"
   ]
  },
  {
   "cell_type": "code",
   "execution_count": 74,
   "id": "6f80c1a0",
   "metadata": {},
   "outputs": [],
   "source": [
    "ele=driver.find_element_by_class_name('s4Iyt')\n",
    "ele.click()"
   ]
  },
  {
   "cell_type": "code",
   "execution_count": 77,
   "id": "cef283d7",
   "metadata": {},
   "outputs": [],
   "source": [
    "profile_pic_btn=driver.find_element_by_xpath('//div[@class=\"XrOey\"]/span')"
   ]
  },
  {
   "cell_type": "code",
   "execution_count": 78,
   "id": "80f7f874",
   "metadata": {},
   "outputs": [],
   "source": [
    "profile_pic_btn.click()"
   ]
  },
  {
   "cell_type": "code",
   "execution_count": 79,
   "id": "56720085",
   "metadata": {},
   "outputs": [],
   "source": [
    "profile_btn=driver.find_element_by_class_name('_7UhW9')"
   ]
  },
  {
   "cell_type": "code",
   "execution_count": 80,
   "id": "02454049",
   "metadata": {},
   "outputs": [],
   "source": [
    "profile_btn.click()"
   ]
  },
  {
   "cell_type": "code",
   "execution_count": 81,
   "id": "ec34915e",
   "metadata": {},
   "outputs": [],
   "source": [
    "my_followers=set()\n",
    "my_following=set()"
   ]
  },
  {
   "cell_type": "code",
   "execution_count": 70,
   "id": "f2a6cfe5",
   "metadata": {},
   "outputs": [
    {
     "ename": "NameError",
     "evalue": "name 'wait' is not defined",
     "output_type": "error",
     "traceback": [
      "\u001b[1;31m---------------------------------------------------------------------------\u001b[0m",
      "\u001b[1;31mNameError\u001b[0m                                 Traceback (most recent call last)",
      "\u001b[1;32m<ipython-input-70-3292ffe88cca>\u001b[0m in \u001b[0;36m<module>\u001b[1;34m\u001b[0m\n\u001b[1;32m----> 1\u001b[1;33m \u001b[0mfollowers_following_list\u001b[0m\u001b[1;33m=\u001b[0m\u001b[0mwait\u001b[0m\u001b[1;33m.\u001b[0m\u001b[0muntil\u001b[0m\u001b[1;33m(\u001b[0m\u001b[0mEC\u001b[0m\u001b[1;33m.\u001b[0m\u001b[0mpresence_of_all_elements_located\u001b[0m\u001b[1;33m(\u001b[0m\u001b[1;33m(\u001b[0m\u001b[0mBy\u001b[0m\u001b[1;33m.\u001b[0m\u001b[0mTAG_NAME\u001b[0m\u001b[1;33m,\u001b[0m\u001b[1;34m'li'\u001b[0m\u001b[1;33m)\u001b[0m\u001b[1;33m)\u001b[0m\u001b[1;33m)\u001b[0m\u001b[1;33m\u001b[0m\u001b[1;33m\u001b[0m\u001b[0m\n\u001b[0m",
      "\u001b[1;31mNameError\u001b[0m: name 'wait' is not defined"
     ]
    }
   ],
   "source": [
    "followers_following_list=wait.until(EC.presence_of_all_elements_located((By.TAG_NAME,'li')))"
   ]
  },
  {
   "cell_type": "code",
   "execution_count": 82,
   "id": "69266fdf",
   "metadata": {},
   "outputs": [],
   "source": [
    "followers_following_list=driver.find_elements_by_tag_name('li')"
   ]
  },
  {
   "cell_type": "code",
   "execution_count": 83,
   "id": "8cac964e",
   "metadata": {},
   "outputs": [],
   "source": [
    "followers_btn=followers_following_list[1]"
   ]
  },
  {
   "cell_type": "markdown",
   "id": "2d398305",
   "metadata": {},
   "source": [
    "# Getting followers "
   ]
  },
  {
   "cell_type": "code",
   "execution_count": 84,
   "id": "1dedf888",
   "metadata": {},
   "outputs": [],
   "source": [
    "followers_btn.click()"
   ]
  },
  {
   "cell_type": "code",
   "execution_count": 85,
   "id": "51c8eb74",
   "metadata": {},
   "outputs": [],
   "source": [
    "time.sleep(5)"
   ]
  },
  {
   "cell_type": "code",
   "execution_count": 86,
   "id": "6c315b1d",
   "metadata": {},
   "outputs": [],
   "source": [
    "current_length=len(driver.find_elements_by_xpath('//li[@class=\"wo9IH\"]'))\n",
    "while True:\n",
    "    element=driver.find_elements_by_tag_name('li')[-1]\n",
    "    driver.execute_script(\"arguments[0].scrollIntoView();\", element);\n",
    "    #print(len(driver.find_elements_by_xpath('//li[@class=\"wo9IH\"]')))\n",
    "    time.sleep(3)\n",
    "    \n",
    "    new_length=len(driver.find_elements_by_xpath('//li[@class=\"wo9IH\"]'))\n",
    "    \n",
    "    if new_length==current_length:\n",
    "        break\n",
    "    else:\n",
    "        current_length=len(driver.find_elements_by_xpath('//li[@class=\"wo9IH\"]'))"
   ]
  },
  {
   "cell_type": "code",
   "execution_count": 87,
   "id": "a1115aae",
   "metadata": {},
   "outputs": [],
   "source": [
    "followers_list=driver.find_elements_by_xpath('//li/div/div/div/div/span/a')"
   ]
  },
  {
   "cell_type": "code",
   "execution_count": 88,
   "id": "4386c410",
   "metadata": {},
   "outputs": [],
   "source": [
    "for follower in followers_list:\n",
    "    my_followers.add(follower.get_attribute('title'))"
   ]
  },
  {
   "cell_type": "code",
   "execution_count": 89,
   "id": "f6e2b40f",
   "metadata": {},
   "outputs": [],
   "source": [
    "driver.refresh()"
   ]
  },
  {
   "cell_type": "code",
   "execution_count": 90,
   "id": "e48d8ec6",
   "metadata": {},
   "outputs": [],
   "source": [
    "time.sleep(10)"
   ]
  },
  {
   "cell_type": "markdown",
   "id": "b8a3e240",
   "metadata": {},
   "source": [
    "# Getting following"
   ]
  },
  {
   "cell_type": "code",
   "execution_count": null,
   "id": "13727c90",
   "metadata": {},
   "outputs": [],
   "source": [
    "followers_following_list=wait.until(EC.presence_of_all_elements_located((By.TAG_NAME,'li')))"
   ]
  },
  {
   "cell_type": "code",
   "execution_count": 91,
   "id": "fead7286",
   "metadata": {},
   "outputs": [],
   "source": [
    "followers_following_list=driver.find_elements_by_tag_name('li')"
   ]
  },
  {
   "cell_type": "code",
   "execution_count": 92,
   "id": "39a79bb8",
   "metadata": {},
   "outputs": [],
   "source": [
    "following_btn=followers_following_list[2]"
   ]
  },
  {
   "cell_type": "code",
   "execution_count": 93,
   "id": "42c20370",
   "metadata": {},
   "outputs": [],
   "source": [
    "following_btn.click()"
   ]
  },
  {
   "cell_type": "code",
   "execution_count": 94,
   "id": "c8d1169a",
   "metadata": {},
   "outputs": [],
   "source": [
    "time.sleep(5)"
   ]
  },
  {
   "cell_type": "code",
   "execution_count": 95,
   "id": "223b78da",
   "metadata": {},
   "outputs": [],
   "source": [
    "current_length=len(driver.find_elements_by_xpath('//li[@class=\"wo9IH\"]'))\n",
    "while True:\n",
    "    element=driver.find_elements_by_tag_name('li')[-1]\n",
    "    driver.execute_script(\"arguments[0].scrollIntoView();\", element);\n",
    "    #print(len(driver.find_elements_by_xpath('//li[@class=\"wo9IH\"]')))\n",
    "    time.sleep(3)\n",
    "    \n",
    "    new_length=len(driver.find_elements_by_xpath('//li[@class=\"wo9IH\"]'))\n",
    "    \n",
    "    if new_length==current_length:\n",
    "        break\n",
    "    else:\n",
    "        current_length=len(driver.find_elements_by_xpath('//li[@class=\"wo9IH\"]'))"
   ]
  },
  {
   "cell_type": "code",
   "execution_count": 96,
   "id": "5bbb8703",
   "metadata": {},
   "outputs": [],
   "source": [
    "following_list=driver.find_elements_by_xpath('//li/div/div/div/div/span/a')"
   ]
  },
  {
   "cell_type": "code",
   "execution_count": 97,
   "id": "60ac82db",
   "metadata": {},
   "outputs": [],
   "source": [
    "for following in following_list:\n",
    "    my_following.add(following.get_attribute('title'))"
   ]
  },
  {
   "cell_type": "code",
   "execution_count": 98,
   "id": "fcf0028d",
   "metadata": {},
   "outputs": [],
   "source": [
    "driver.refresh()"
   ]
  },
  {
   "cell_type": "markdown",
   "id": "94ea51c1",
   "metadata": {},
   "source": [
    "# Followers of foodtalkindia"
   ]
  },
  {
   "cell_type": "code",
   "execution_count": 99,
   "id": "973d55bd",
   "metadata": {},
   "outputs": [],
   "source": [
    "search=driver.find_element_by_class_name('XTCLo')"
   ]
  },
  {
   "cell_type": "code",
   "execution_count": 100,
   "id": "45cf164f",
   "metadata": {},
   "outputs": [],
   "source": [
    "foodtalkindia_followers=set()"
   ]
  },
  {
   "cell_type": "code",
   "execution_count": 101,
   "id": "f162532b",
   "metadata": {},
   "outputs": [],
   "source": [
    "search.send_keys('foodtalkindia')"
   ]
  },
  {
   "cell_type": "code",
   "execution_count": 102,
   "id": "dce0c02c",
   "metadata": {},
   "outputs": [],
   "source": [
    "time.sleep(3)\n",
    "search.send_keys(Keys.ENTER)\n",
    "search.send_keys(Keys.ENTER)"
   ]
  },
  {
   "cell_type": "code",
   "execution_count": 103,
   "id": "17cb0fae",
   "metadata": {},
   "outputs": [],
   "source": [
    "time.sleep(4)"
   ]
  },
  {
   "cell_type": "code",
   "execution_count": 104,
   "id": "55938ca9",
   "metadata": {},
   "outputs": [],
   "source": [
    "followers_btn=driver.find_elements_by_tag_name('li')"
   ]
  },
  {
   "cell_type": "code",
   "execution_count": 105,
   "id": "38966ebb",
   "metadata": {},
   "outputs": [],
   "source": [
    "followers_btn[1].click()"
   ]
  },
  {
   "cell_type": "code",
   "execution_count": 106,
   "id": "91c0f4fb",
   "metadata": {},
   "outputs": [],
   "source": [
    "time.sleep(5)"
   ]
  },
  {
   "cell_type": "code",
   "execution_count": 107,
   "id": "2e548309",
   "metadata": {},
   "outputs": [],
   "source": [
    "while len(driver.find_elements_by_xpath('//li[@class=\"wo9IH\"]'))<500:\n",
    "    element=driver.find_elements_by_tag_name('li')[-1]\n",
    "    driver.execute_script(\"arguments[0].scrollIntoView();\", element);\n",
    "    #print(len(driver.find_elements_by_xpath('//li[@class=\"wo9IH\"]')))\n",
    "    time.sleep(3)"
   ]
  },
  {
   "cell_type": "code",
   "execution_count": 108,
   "id": "c4c49a76",
   "metadata": {},
   "outputs": [],
   "source": [
    "foodtalkindia_followers_list=driver.find_elements_by_xpath('//li/div/div/div/div/span/a')"
   ]
  },
  {
   "cell_type": "code",
   "execution_count": 109,
   "id": "1f1026d2",
   "metadata": {},
   "outputs": [],
   "source": [
    "for i in range(500):\n",
    "    foodtalkindia_followers.add(foodtalkindia_followers_list[i].get_attribute('title'))"
   ]
  },
  {
   "cell_type": "markdown",
   "id": "2d35e156",
   "metadata": {},
   "source": [
    "# Getting the followers of foodtalkIndia that I am following but that are not following me back"
   ]
  },
  {
   "cell_type": "code",
   "execution_count": 110,
   "id": "3e42f1a8",
   "metadata": {},
   "outputs": [
    {
     "name": "stdout",
     "output_type": "stream",
     "text": [
      "======================================================\n",
      "There is no follower of foodtalkIndia that you are following, but who is not following you back\n",
      "=======================================================\n"
     ]
    }
   ],
   "source": [
    "count=0\n",
    "print('======================================================')\n",
    "for user in list(foodtalkindia_followers):\n",
    "    if user in my_following and user not in my_followers:\n",
    "        print(\"I am following {}, but {} is not following me\".format(user,user))\n",
    "        count+=1\n",
    "        \n",
    "if count==0:\n",
    "    print(\"There is no follower of foodtalkIndia that you are following, but who is not following you back\")\n",
    "print('=======================================================')"
   ]
  },
  {
   "cell_type": "code",
   "execution_count": 111,
   "id": "33a8acf8",
   "metadata": {},
   "outputs": [],
   "source": [
    "driver.refresh()"
   ]
  },
  {
   "cell_type": "markdown",
   "id": "5e1bc2ff",
   "metadata": {},
   "source": [
    "# Check the story of ‘coding.ninjas’. Consider the following Scenarios and print error messages accordingly -\n",
    "<ol>\n",
    "    <li>If You have already seen the story.</li>\n",
    "    <li>Or The user has no story.</li>\n",
    "    <li>Or View the story if not yet seen.</li>\n",
    "    \n",
    "    \n",
    "   </ol>"
   ]
  },
  {
   "cell_type": "code",
   "execution_count": 112,
   "id": "9f04d472",
   "metadata": {},
   "outputs": [],
   "source": [
    "search=driver.find_element_by_class_name('XTCLo')"
   ]
  },
  {
   "cell_type": "code",
   "execution_count": 113,
   "id": "82949da4",
   "metadata": {},
   "outputs": [],
   "source": [
    "search.send_keys('coding.ninjas')"
   ]
  },
  {
   "cell_type": "code",
   "execution_count": 114,
   "id": "580254d6",
   "metadata": {},
   "outputs": [],
   "source": [
    "time.sleep(3)\n",
    "search.send_keys(Keys.ENTER)\n",
    "search.send_keys(Keys.ENTER)"
   ]
  },
  {
   "cell_type": "markdown",
   "id": "a330f812",
   "metadata": {},
   "source": [
    "# <ul> \n",
    "    <li>if story viwed, height and width of canvas tag is 208x208 in full screen 15.6 inch laptop</li>\n",
    "    <li> if story not viewd , height and width is 210 x 210</li>\n",
    "    <li> for div containing class RR-M-, if the area disabled attribute is true, then there is no story></li>"
   ]
  },
  {
   "cell_type": "code",
   "execution_count": 121,
   "id": "1d116c0c",
   "metadata": {},
   "outputs": [],
   "source": [
    "story_btn=driver.find_element_by_xpath('//div[contains(@class,\"RR-M-\")]/span')"
   ]
  },
  {
   "cell_type": "code",
   "execution_count": 122,
   "id": "a2550a96",
   "metadata": {},
   "outputs": [],
   "source": [
    "no_element_div=driver.find_element_by_xpath('//div[contains(@class,\"RR-M-\")]')"
   ]
  },
  {
   "cell_type": "code",
   "execution_count": 123,
   "id": "4c77f2d3",
   "metadata": {},
   "outputs": [],
   "source": [
    "canvas=driver.find_element_by_class_name('CfWVH')"
   ]
  },
  {
   "cell_type": "code",
   "execution_count": 124,
   "id": "cbbf0d06",
   "metadata": {},
   "outputs": [],
   "source": [
    "time.sleep(5)"
   ]
  },
  {
   "cell_type": "code",
   "execution_count": 125,
   "id": "7589d854",
   "metadata": {},
   "outputs": [],
   "source": [
    "if no_element_div.get_attribute('aria-disabled')==True:\n",
    "    print('There is no story to be viewed')\n",
    "else:\n",
    "    width=canvas.get_attribute('width')\n",
    "    height=canvas.get_attribute('height')\n",
    "    #print(width,height)\n",
    "    \n",
    "    if width=='208' and height=='208':\n",
    "        print('The story is already viewd')\n",
    "    else:\n",
    "        story_btn.click()"
   ]
  },
  {
   "cell_type": "markdown",
   "id": "07ca8dec",
   "metadata": {},
   "source": [
    "# Closing the driver"
   ]
  },
  {
   "cell_type": "code",
   "execution_count": 126,
   "id": "fc5148da",
   "metadata": {},
   "outputs": [],
   "source": [
    "driver.quit()"
   ]
  },
  {
   "cell_type": "code",
   "execution_count": null,
   "id": "cf933b16",
   "metadata": {},
   "outputs": [],
   "source": []
  },
  {
   "cell_type": "code",
   "execution_count": null,
   "id": "00b83f28",
   "metadata": {},
   "outputs": [],
   "source": []
  },
  {
   "cell_type": "code",
   "execution_count": null,
   "id": "5215c075",
   "metadata": {},
   "outputs": [],
   "source": []
  },
  {
   "cell_type": "code",
   "execution_count": null,
   "id": "94a826a4",
   "metadata": {},
   "outputs": [],
   "source": []
  },
  {
   "cell_type": "code",
   "execution_count": null,
   "id": "d375c5b5",
   "metadata": {},
   "outputs": [],
   "source": []
  },
  {
   "cell_type": "code",
   "execution_count": null,
   "id": "e53f6675",
   "metadata": {},
   "outputs": [],
   "source": []
  },
  {
   "cell_type": "code",
   "execution_count": null,
   "id": "267d0b47",
   "metadata": {},
   "outputs": [],
   "source": []
  },
  {
   "cell_type": "code",
   "execution_count": null,
   "id": "c21a7d7b",
   "metadata": {},
   "outputs": [],
   "source": []
  },
  {
   "cell_type": "code",
   "execution_count": null,
   "id": "fc9a5578",
   "metadata": {},
   "outputs": [],
   "source": []
  },
  {
   "cell_type": "code",
   "execution_count": null,
   "id": "3865bfbf",
   "metadata": {},
   "outputs": [],
   "source": []
  },
  {
   "cell_type": "code",
   "execution_count": null,
   "id": "08621a58",
   "metadata": {},
   "outputs": [],
   "source": []
  },
  {
   "cell_type": "code",
   "execution_count": null,
   "id": "63e969be",
   "metadata": {},
   "outputs": [],
   "source": []
  },
  {
   "cell_type": "code",
   "execution_count": null,
   "id": "0e7930e7",
   "metadata": {},
   "outputs": [],
   "source": []
  },
  {
   "cell_type": "code",
   "execution_count": null,
   "id": "4ca96279",
   "metadata": {},
   "outputs": [],
   "source": []
  },
  {
   "cell_type": "code",
   "execution_count": null,
   "id": "ceab645d",
   "metadata": {},
   "outputs": [],
   "source": []
  },
  {
   "cell_type": "code",
   "execution_count": null,
   "id": "5dd8c06a",
   "metadata": {},
   "outputs": [],
   "source": []
  }
 ],
 "metadata": {
  "kernelspec": {
   "display_name": "Python 3",
   "language": "python",
   "name": "python3"
  },
  "language_info": {
   "codemirror_mode": {
    "name": "ipython",
    "version": 3
   },
   "file_extension": ".py",
   "mimetype": "text/x-python",
   "name": "python",
   "nbconvert_exporter": "python",
   "pygments_lexer": "ipython3",
   "version": "3.8.2"
  }
 },
 "nbformat": 4,
 "nbformat_minor": 5
}
